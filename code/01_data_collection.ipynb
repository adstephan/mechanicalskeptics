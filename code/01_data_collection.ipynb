{
 "cells": [
  {
   "cell_type": "code",
   "execution_count": 1,
   "metadata": {},
   "outputs": [],
   "source": [
    "import os\n",
    "import sys\n",
    "\n",
    "PARENT_PATH = os.path.abspath(os.path.dirname(os.getcwd()))\n",
    "sys.path.append(PARENT_PATH)\n",
    "\n",
    "from utils import flat_subreddits\n",
    "\n",
    "import requests\n",
    "import libtorrent as lt\n",
    "import time\n",
    "import zstandard as zstd\n",
    "from pathlib import Path\n"
   ]
  },
  {
   "cell_type": "code",
   "execution_count": null,
   "metadata": {},
   "outputs": [],
   "source": [
    "torrent_link = \"https://academictorrents.com/download/1614740ac8c94505e4ecb9d88be8bed7b6afddd4.torrent\"\n",
    "torrent_file = f\"{PARENT_PATH}/data/downloads/downloaded_content.torrent\"\n",
    "\n",
    "if not os.path.exists(torrent_file):\n",
    "    with requests.get(torrent_link, stream=True) as r:\n",
    "        r.raise_for_status()\n",
    "        with open(torrent_file, 'wb') as f:\n",
    "            for chunk in r.iter_content(chunk_size=8192):\n",
    "                f.write(chunk)\n",
    "    print(\"Torrent file downloaded.\")\n",
    "else:\n",
    "    print(\"Torrent file already exists, skipping download.\")"
   ]
  },
  {
   "cell_type": "code",
   "execution_count": null,
   "metadata": {},
   "outputs": [],
   "source": [
    "session = lt.session()\n",
    "info = lt.torrent_info(f\"{PARENT_PATH}/data/downloads/downloaded_content.torrent\")\n",
    "matching_files = []\n",
    "file_priorities = {}\n",
    "for index, file in enumerate(info.files()):\n",
    "    file_name = os.path.basename(file.path)\n",
    "    base_name = file_name.replace('_submissions.zst', '').replace('_comments.zst', '')\n",
    "    file_priorities[index] = 0\n",
    "\n",
    "    if base_name in flat_subreddits:\n",
    "        print(f\"Found matching file: {base_name}\")\n",
    "        matching_files.append(file_name)\n",
    "        file_priorities[index] = 1\n",
    "        \n",
    "if not matching_files:\n",
    "    print(\"No files in the torrent match the provided reddits list.\")\n",
    "else:\n",
    "    # Check if files already exist\n",
    "    all_files_exist = True\n",
    "    for file_name in matching_files:\n",
    "        expected_path = Path(f\"{PARENT_PATH}/data/downloads/reddit/subreddits23/{file_name}\")\n",
    "        if not expected_path.exists():\n",
    "            all_files_exist = False\n",
    "            break\n",
    "    \n",
    "    if all_files_exist:\n",
    "        print(\"All matching files already exist. Skipping download.\")\n",
    "    else:\n",
    "        print(\"Some files missing. Starting download...\")\n",
    "        handle = session.add_torrent({'ti': info, 'save_path': f\"{PARENT_PATH}/data/downloads\"})\n",
    "        for index in file_priorities:\n",
    "            handle.file_priority(index, file_priorities[index])\n",
    "        while not handle.is_seed():\n",
    "            s = handle.status()\n",
    "            progress = s.progress * 100\n",
    "            print(f\"Download progress: {progress:.2f}%\")\n",
    "            if progress >= 100:\n",
    "                break\n",
    "            time.sleep(1)\n",
    "        print(\"Download complete for matching files.\")\n",
    "print(\"Script finished.\")"
   ]
  },
  {
   "cell_type": "code",
   "execution_count": 3,
   "metadata": {},
   "outputs": [
    {
     "name": "stdout",
     "output_type": "stream",
     "text": [
      "Found 10 .zst files to extract\n",
      "Extracting AskALiberal_comments.zst...\n",
      "Extracted to c:\\Users\\andrew\\Desktop\\mechanicalskeptics\\data\\extracted\\AskALiberal_comments\n",
      "Extracting AskALiberal_submissions.zst...\n",
      "Extracted to c:\\Users\\andrew\\Desktop\\mechanicalskeptics\\data\\extracted\\AskALiberal_submissions\n",
      "Extracting AskConservatives_comments.zst...\n",
      "Extracted to c:\\Users\\andrew\\Desktop\\mechanicalskeptics\\data\\extracted\\AskConservatives_comments\n",
      "Extracting AskConservatives_submissions.zst...\n",
      "Extracted to c:\\Users\\andrew\\Desktop\\mechanicalskeptics\\data\\extracted\\AskConservatives_submissions\n",
      "Extracting centrist_comments.zst...\n",
      "Extracted to c:\\Users\\andrew\\Desktop\\mechanicalskeptics\\data\\extracted\\centrist_comments\n",
      "Extracting centrist_submissions.zst...\n",
      "Extracted to c:\\Users\\andrew\\Desktop\\mechanicalskeptics\\data\\extracted\\centrist_submissions\n",
      "Extracting conservatives_comments.zst...\n",
      "Extracted to c:\\Users\\andrew\\Desktop\\mechanicalskeptics\\data\\extracted\\conservatives_comments\n",
      "Extracting conservatives_submissions.zst...\n",
      "Extracted to c:\\Users\\andrew\\Desktop\\mechanicalskeptics\\data\\extracted\\conservatives_submissions\n",
      "Extracting SocialDemocracy_comments.zst...\n",
      "Extracted to c:\\Users\\andrew\\Desktop\\mechanicalskeptics\\data\\extracted\\SocialDemocracy_comments\n",
      "Extracting SocialDemocracy_submissions.zst...\n",
      "Extracted to c:\\Users\\andrew\\Desktop\\mechanicalskeptics\\data\\extracted\\SocialDemocracy_submissions\n",
      "All files processed\n"
     ]
    }
   ],
   "source": [
    "output_dir = Path(f\"{PARENT_PATH}/data/extracted\")\n",
    "if not output_dir.exists():\n",
    "    output_dir.mkdir(parents=True)\n",
    "\n",
    "download_dir = Path(f\"{PARENT_PATH}/data/downloads/reddit/subreddits24\")\n",
    "zst_files = list(download_dir.glob('*.zst'))\n",
    "\n",
    "print(f\"Found {len(zst_files)} .zst files to extract\")\n",
    "\n",
    "for zst_file in zst_files:\n",
    "\n",
    "    output_file = output_dir / zst_file.stem\n",
    "    \n",
    "    if not output_file.exists():\n",
    "        print(f\"Extracting {zst_file.name}...\")\n",
    "        \n",
    "        with open(zst_file, 'rb') as compressed:\n",
    "            dctx = zstd.ZstdDecompressor()\n",
    "            with open(output_file, 'wb') as destination:\n",
    "                dctx.copy_stream(compressed, destination)\n",
    "        \n",
    "        print(f\"Extracted to {output_file}\")\n",
    "    else:\n",
    "        print(f\"Skipping {zst_file.name} - already extracted\")\n",
    "\n",
    "print(\"All files processed\")"
   ]
  }
 ],
 "metadata": {
  "kernelspec": {
   "display_name": "Python 3",
   "language": "python",
   "name": "python3"
  },
  "language_info": {
   "codemirror_mode": {
    "name": "ipython",
    "version": 3
   },
   "file_extension": ".py",
   "mimetype": "text/x-python",
   "name": "python",
   "nbconvert_exporter": "python",
   "pygments_lexer": "ipython3",
   "version": "3.8.0"
  }
 },
 "nbformat": 4,
 "nbformat_minor": 2
}
